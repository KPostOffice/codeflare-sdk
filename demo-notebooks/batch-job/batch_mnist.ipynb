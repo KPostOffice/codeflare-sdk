{
 "cells": [
  {
   "cell_type": "code",
   "execution_count": 17,
   "id": "b55bc3ea-4ce3-49bf-bb1f-e209de8ca47a",
   "metadata": {},
   "outputs": [],
   "source": [
    "# Import pieces from codeflare-sdk\n",
    "from codeflare_sdk.cluster.cluster import Cluster, ClusterConfiguration\n",
    "from codeflare_sdk.cluster.auth import TokenAuthentication"
   ]
  },
  {
   "cell_type": "code",
   "execution_count": 18,
   "id": "614daa0c",
   "metadata": {},
   "outputs": [],
   "source": [
    "# Create authentication object for oc user permissions\n",
    "auth = TokenAuthentication(\n",
    "    token = \"XXXX\",\n",
    "    server = \"XXXX\",\n",
    "    skip_tls=True,\n",
    ")"
   ]
  },
  {
   "cell_type": "markdown",
   "id": "bc27f84c",
   "metadata": {},
   "source": [
    "Here, we want to define our cluster by specifying the resources we require for our batch workload. Below, we define our cluster object (which generates a corresponding AppWrapper)."
   ]
  },
  {
   "cell_type": "code",
   "execution_count": 19,
   "id": "0f4bc870-091f-4e11-9642-cba145710159",
   "metadata": {
    "scrolled": false
   },
   "outputs": [
    {
     "name": "stdout",
     "output_type": "stream",
     "text": [
      "Written to: mnisttest.yaml\n"
     ]
    }
   ],
   "source": [
    "# Create our cluster and submit appwrapper\n",
    "cluster = Cluster(ClusterConfiguration(name='mnisttest', min_worker=2, max_worker=2, min_cpus=8, max_cpus=8, min_memory=16, max_memory=16, gpu=4, instascale=True, machine_types=[\"m5.xlarge\", \"p3.8xlarge\"], auth=auth))"
   ]
  },
  {
   "cell_type": "markdown",
   "id": "12eef53c",
   "metadata": {},
   "source": [
    "Next, we want to bring our cluster up, so we call the `up()` function below to submit our cluster AppWrapper yaml onto the MCAD queue, and begin the process of obtaining our resource cluster."
   ]
  },
  {
   "cell_type": "code",
   "execution_count": 13,
   "id": "f0884bbc-c224-4ca0-98a0-02dfa09c2200",
   "metadata": {},
   "outputs": [],
   "source": [
    "# Bring up the cluster\n",
    "cluster.up()"
   ]
  },
  {
   "cell_type": "markdown",
   "id": "657ebdfb",
   "metadata": {},
   "source": [
    "Now, we want to check on the status of our resource cluster, until it is finally ready for use."
   ]
  },
  {
   "cell_type": "code",
   "execution_count": 14,
   "id": "3c1b4311-2e61-44c9-8225-87c2db11363d",
   "metadata": {
    "scrolled": true
   },
   "outputs": [
    {
     "data": {
      "text/html": [
       "<pre style=\"white-space:pre;overflow-x:auto;line-height:normal;font-family:Menlo,'DejaVu Sans Mono',consolas,'Courier New',monospace\">╭─────────────────────────╮\n",
       "│ <span style=\"font-style: italic\"> </span><span style=\"font-weight: bold; font-style: italic\"> 🚀 List of CodeFlare</span><span style=\"font-style: italic\"> </span> │\n",
       "│ <span style=\"font-style: italic\">  </span><span style=\"font-weight: bold; font-style: italic\">clusters in queue🚀</span><span style=\"font-style: italic\">  </span> │\n",
       "│ +-----------+---------+ │\n",
       "│ |<span style=\"font-weight: bold\"> Name      </span>|<span style=\"font-weight: bold\"> Status  </span>| │\n",
       "│ +===========+=========+ │\n",
       "│ |<span style=\"color: #008080; text-decoration-color: #008080\"> mnisttest </span>|<span style=\"color: #800080; text-decoration-color: #800080\"> pending </span>| │\n",
       "│ |<span style=\"color: #008080; text-decoration-color: #008080\">           </span>|<span style=\"color: #800080; text-decoration-color: #800080\">         </span>| │\n",
       "│ +-----------+---------+ │\n",
       "╰─────────────────────────╯\n",
       "</pre>\n"
      ],
      "text/plain": [
       "╭─────────────────────────╮\n",
       "│ \u001b[3m \u001b[0m\u001b[1;3m 🚀 List of CodeFlare\u001b[0m\u001b[3m \u001b[0m │\n",
       "│ \u001b[3m  \u001b[0m\u001b[1;3mclusters in queue🚀\u001b[0m\u001b[3m  \u001b[0m │\n",
       "│ +-----------+---------+ │\n",
       "│ |\u001b[1m \u001b[0m\u001b[1mName     \u001b[0m\u001b[1m \u001b[0m|\u001b[1m \u001b[0m\u001b[1mStatus \u001b[0m\u001b[1m \u001b[0m| │\n",
       "│ +===========+=========+ │\n",
       "│ |\u001b[36m \u001b[0m\u001b[36mmnisttest\u001b[0m\u001b[36m \u001b[0m|\u001b[35m \u001b[0m\u001b[35mpending\u001b[0m\u001b[35m \u001b[0m| │\n",
       "│ |\u001b[36m \u001b[0m\u001b[36m         \u001b[0m\u001b[36m \u001b[0m|\u001b[35m \u001b[0m\u001b[35m       \u001b[0m\u001b[35m \u001b[0m| │\n",
       "│ +-----------+---------+ │\n",
       "╰─────────────────────────╯\n"
      ]
     },
     "metadata": {},
     "output_type": "display_data"
    },
    {
     "data": {
      "text/plain": [
       "(False, <CodeFlareClusterStatus.QUEUED: 2>)"
      ]
     },
     "execution_count": 14,
     "metadata": {},
     "output_type": "execute_result"
    }
   ],
   "source": [
    "cluster.is_ready()"
   ]
  },
  {
   "cell_type": "code",
   "execution_count": 15,
   "id": "7fd45bc5-03c0-4ae5-9ec5-dd1c30f1a084",
   "metadata": {},
   "outputs": [
    {
     "data": {
      "text/html": [
       "<pre style=\"white-space:pre;overflow-x:auto;line-height:normal;font-family:Menlo,'DejaVu Sans Mono',consolas,'Courier New',monospace\"><span style=\"font-style: italic\">                  </span><span style=\"font-weight: bold; font-style: italic\"> 🚀 List of CodeFlare clusters 🚀</span><span style=\"font-style: italic\">                   </span>\n",
       "<span style=\"font-weight: bold\">                                                                      </span>\n",
       " ╭──────────────────────────────────────────────────────────────────╮ \n",
       " │   <span style=\"color: #c0c0c0; text-decoration-color: #c0c0c0; background-color: #008000; font-weight: bold\">Owner</span>                                                          │ \n",
       " │   <span style=\"font-weight: bold; text-decoration: underline\">mnisttest</span>                                        InActive ❌   │ \n",
       " │                                                                  │ \n",
       " │   <span style=\"font-weight: bold\">URI:</span> ray://mnisttest-head-svc.default.svc:10001                │ \n",
       " │                                                                  │ \n",
       " │   <a href=\"ray-dashboard-mnisttest-default.apps.kpostoffice.dev.datahub.redhat.com\" target=\"_blank\"><span style=\"color: #000080; text-decoration-color: #000080; text-decoration: underline\">Dashboard🔗</span></a>                                                    │ \n",
       " │                                                                  │ \n",
       " │  <span style=\"font-style: italic\">                    Cluster Resources                     </span>      │ \n",
       " │   ╭─ Workers ──╮  ╭───────── Worker specs(each) ─────────╮       │ \n",
       " │   │ <span style=\"font-weight: bold\"> Min  Max </span> │  │ <span style=\"font-weight: bold\"> Memory      CPU         GPU        </span> │       │ \n",
       " │   │ <span style=\"color: #008080; text-decoration-color: #008080\">     </span><span style=\"color: #800080; text-decoration-color: #800080\">     </span> │  │ <span style=\"color: #008080; text-decoration-color: #008080\">            </span><span style=\"color: #800080; text-decoration-color: #800080\">                        </span> │       │ \n",
       " │   │ <span style=\"color: #008080; text-decoration-color: #008080\"> 2   </span><span style=\"color: #800080; text-decoration-color: #800080\"> 2   </span> │  │ <span style=\"color: #008080; text-decoration-color: #008080\"> 2G~2G      </span><span style=\"color: #800080; text-decoration-color: #800080\"> 1           0          </span> │       │ \n",
       " │   │ <span style=\"color: #008080; text-decoration-color: #008080\">     </span><span style=\"color: #800080; text-decoration-color: #800080\">     </span> │  │ <span style=\"color: #008080; text-decoration-color: #008080\">            </span><span style=\"color: #800080; text-decoration-color: #800080\">                        </span> │       │ \n",
       " │   ╰────────────╯  ╰──────────────────────────────────────╯       │ \n",
       " ╰──────────────────────────────────────────────────────────────────╯ \n",
       "</pre>\n"
      ],
      "text/plain": [
       "\u001b[3m                  \u001b[0m\u001b[1;3m 🚀 List of CodeFlare clusters 🚀\u001b[0m\u001b[3m                   \u001b[0m\n",
       "\u001b[1m \u001b[0m\u001b[1m                                                                    \u001b[0m\u001b[1m \u001b[0m\n",
       " ╭──────────────────────────────────────────────────────────────────╮ \n",
       " │   \u001b[1;37;42mOwner\u001b[0m                                                          │ \n",
       " │   \u001b[1;4mmnisttest\u001b[0m                                        InActive ❌   │ \n",
       " │                                                                  │ \n",
       " │   \u001b[1mURI:\u001b[0m ray://mnisttest-head-svc.default.svc:10001                │ \n",
       " │                                                                  │ \n",
       " │   \u001b]8;id=188136;ray-dashboard-mnisttest-default.apps.kpostoffice.dev.datahub.redhat.com\u001b\\\u001b[4;34mDashboard🔗\u001b[0m\u001b]8;;\u001b\\                                                    │ \n",
       " │                                                                  │ \n",
       " │  \u001b[3m                    Cluster Resources                     \u001b[0m      │ \n",
       " │   ╭─ Workers ──╮  ╭───────── Worker specs(each) ─────────╮       │ \n",
       " │   │ \u001b[1m \u001b[0m\u001b[1mMin\u001b[0m\u001b[1m \u001b[0m\u001b[1m \u001b[0m\u001b[1mMax\u001b[0m\u001b[1m \u001b[0m │  │ \u001b[1m \u001b[0m\u001b[1mMemory    \u001b[0m\u001b[1m \u001b[0m\u001b[1m \u001b[0m\u001b[1mCPU       \u001b[0m\u001b[1m \u001b[0m\u001b[1m \u001b[0m\u001b[1mGPU       \u001b[0m\u001b[1m \u001b[0m │       │ \n",
       " │   │ \u001b[36m \u001b[0m\u001b[36m   \u001b[0m\u001b[36m \u001b[0m\u001b[35m \u001b[0m\u001b[35m   \u001b[0m\u001b[35m \u001b[0m │  │ \u001b[36m \u001b[0m\u001b[36m          \u001b[0m\u001b[36m \u001b[0m\u001b[35m \u001b[0m\u001b[35m          \u001b[0m\u001b[35m \u001b[0m\u001b[35m \u001b[0m\u001b[35m          \u001b[0m\u001b[35m \u001b[0m │       │ \n",
       " │   │ \u001b[36m \u001b[0m\u001b[36m2  \u001b[0m\u001b[36m \u001b[0m\u001b[35m \u001b[0m\u001b[35m2  \u001b[0m\u001b[35m \u001b[0m │  │ \u001b[36m \u001b[0m\u001b[36m2G~2G     \u001b[0m\u001b[36m \u001b[0m\u001b[35m \u001b[0m\u001b[35m1         \u001b[0m\u001b[35m \u001b[0m\u001b[35m \u001b[0m\u001b[35m0         \u001b[0m\u001b[35m \u001b[0m │       │ \n",
       " │   │ \u001b[36m \u001b[0m\u001b[36m   \u001b[0m\u001b[36m \u001b[0m\u001b[35m \u001b[0m\u001b[35m   \u001b[0m\u001b[35m \u001b[0m │  │ \u001b[36m \u001b[0m\u001b[36m          \u001b[0m\u001b[36m \u001b[0m\u001b[35m \u001b[0m\u001b[35m          \u001b[0m\u001b[35m \u001b[0m\u001b[35m \u001b[0m\u001b[35m          \u001b[0m\u001b[35m \u001b[0m │       │ \n",
       " │   ╰────────────╯  ╰──────────────────────────────────────╯       │ \n",
       " ╰──────────────────────────────────────────────────────────────────╯ \n"
      ]
     },
     "metadata": {},
     "output_type": "display_data"
    },
    {
     "data": {
      "text/plain": [
       "<RayClusterStatus.FAILED: 'failed'>"
      ]
     },
     "execution_count": 15,
     "metadata": {},
     "output_type": "execute_result"
    }
   ],
   "source": [
    "cluster.status()"
   ]
  },
  {
   "cell_type": "markdown",
   "id": "87d2c9b3",
   "metadata": {},
   "source": [
    "Now that our resource cluster is ready, we can directly submit our batch job (model training on two workers with four gpus each) to the cluster via torchx."
   ]
  },
  {
   "cell_type": "code",
   "execution_count": 5,
   "id": "89388795",
   "metadata": {},
   "outputs": [],
   "source": [
    "from codeflare_sdk.jobs.jobs import TorchXJobDefinition\n",
    "from codeflare_sdk.jobs.config import JobConfiguration"
   ]
  },
  {
   "cell_type": "code",
   "execution_count": 6,
   "id": "3cc6183a-8f6e-4347-af91-d088ed422544",
   "metadata": {
    "scrolled": true
   },
   "outputs": [
    {
     "name": "stderr",
     "output_type": "stream",
     "text": [
      "The Ray scheduler does not support port mapping.\n"
     ]
    }
   ],
   "source": [
    "job = TorchXJobDefinition(JobConfiguration(script=\"mnist.py\", requirements=\"requirements.txt\")).submit(cluster)"
   ]
  },
  {
   "cell_type": "markdown",
   "id": "38925ffa",
   "metadata": {},
   "source": [
    "Now we can go ahead and look at the status and logs of our batch job."
   ]
  },
  {
   "cell_type": "code",
   "execution_count": 6,
   "id": "b7bf9867",
   "metadata": {
    "scrolled": false
   },
   "outputs": [
    {
     "data": {
      "text/plain": [
       "AppStatus:\n",
       "  msg: !!python/object/apply:ray.dashboard.modules.job.common.JobStatus\n",
       "  - RUNNING\n",
       "  num_restarts: -1\n",
       "  roles:\n",
       "  - replicas:\n",
       "    - hostname: <NONE>\n",
       "      id: 0\n",
       "      role: ray\n",
       "      state: !!python/object/apply:torchx.specs.api.AppState\n",
       "      - 3\n",
       "      structured_error_msg: <NONE>\n",
       "    role: ray\n",
       "  state: RUNNING (3)\n",
       "  structured_error_msg: <NONE>\n",
       "  ui_url: null"
      ]
     },
     "execution_count": 6,
     "metadata": {},
     "output_type": "execute_result"
    }
   ],
   "source": [
    "job.status()"
   ]
  },
  {
   "cell_type": "code",
   "execution_count": 8,
   "id": "24cd6fa8",
   "metadata": {},
   "outputs": [
    {
     "name": "stdout",
     "output_type": "stream",
     "text": [
      "[RayActor(name='mnist', command=['bash', '-c', \"python -m torch.distributed.run --rdzv_backend static --rdzv_endpoint $TORCHX_RANK0_HOST:49782 --rdzv_id 'mnist-fljvj1cqqnsqz' --nnodes 2 --nproc_per_node 1 --node_rank '0' --tee 3 --role '' mnist.py\"], env={'LOGLEVEL': 'DEBUG', 'TORCH_DISTRIBUTED_DEBUG': 'DETAIL', 'TORCHX_JOB_ID': 'ray://torchx/mnist-fljvj1cqqnsqz'}, num_cpus=1, num_gpus=0, min_replicas=2), RayActor(name='mnist', command=['bash', '-c', \"python -m torch.distributed.run --rdzv_backend static --rdzv_endpoint $TORCHX_RANK0_HOST:49782 --rdzv_id 'mnist-fljvj1cqqnsqz' --nnodes 2 --nproc_per_node 1 --node_rank '1' --tee 3 --role '' mnist.py\"], env={'LOGLEVEL': 'DEBUG', 'TORCH_DISTRIBUTED_DEBUG': 'DETAIL', 'TORCHX_JOB_ID': 'ray://torchx/mnist-fljvj1cqqnsqz'}, num_cpus=1, num_gpus=0, min_replicas=2)]\n",
      "2023-02-20 14:22:16,059\tINFO worker.py:1230 -- Using address 10.129.2.23:6379 set in the environment variable RAY_ADDRESS\n",
      "2023-02-20 14:22:16,059\tINFO worker.py:1342 -- Connecting to existing Ray cluster at address: 10.129.2.23:6379...\n",
      "2023-02-20 14:22:16,065\tINFO worker.py:1519 -- Connected to Ray cluster. View the dashboard at \u001b[1m\u001b[32mhttp://10.129.2.23:8265 \u001b[39m\u001b[22m\n",
      "Waiting for minimum placement group to start.\n",
      "Successfully created placement groups\n",
      "Successfully placed command actors\n",
      "Entering main loop, start executing the script on worker nodes\n",
      "running ray.wait on [ObjectRef(d8c1ad1586102897394403cf77d312907b39ce140400000001000000), ObjectRef(011ae9488efe4e25235800bee97f58ae4583678c0400000001000000)]\n",
      "running ray.wait on [ObjectRef(011ae9488efe4e25235800bee97f58ae4583678c0400000001000000), ObjectRef(dab3ed1d101c95d8394403cf77d312907b39ce140400000001000000)]\n",
      "Traceback (most recent call last):\n",
      "  File \"ray_driver.py\", line 312, in <module>\n",
      "    main()\n",
      "  File \"ray_driver.py\", line 308, in main\n",
      "    driver.run()\n",
      "  File \"ray_driver.py\", line 293, in run\n",
      "    terminal = self._step()\n",
      "  File \"ray_driver.py\", line 245, in _step\n",
      "    result = ray.get(object_ref)\n",
      "  File \"/home/ray/anaconda3/lib/python3.8/site-packages/ray/_private/client_mode_hook.py\", line 105, in wrapper\n",
      "    return func(*args, **kwargs)\n",
      "  File \"/home/ray/anaconda3/lib/python3.8/site-packages/ray/_private/worker.py\", line 2289, in get\n",
      "    raise value.as_instanceof_cause()\n",
      "ray.exceptions.RayTaskError(RuntimeError): \u001b[36mray::CommandActor.exec_module()\u001b[39m (pid=998, ip=10.129.2.23, repr=<ray_driver.CommandActor object at 0x7fa520de2610>)\n",
      "  File \"ray_driver.py\", line 76, in exec_module\n",
      "    raise RuntimeError(\n",
      "RuntimeError: Either MASTER_ADDR or MASTER_PORT are not set. This is most likely bug in torchxOpen issue at https://github.com/pytorch/torchx\n",
      "\n"
     ]
    }
   ],
   "source": [
    "print(job.logs())"
   ]
  },
  {
   "cell_type": "markdown",
   "id": "5af8cd32",
   "metadata": {},
   "source": [
    "Finally, we bring our resource cluster down and release/terminate the associated resources, bringing everything back to the way it was before our cluster was brought up."
   ]
  },
  {
   "cell_type": "code",
   "execution_count": 20,
   "id": "5f36db0f-31f6-4373-9503-dc3c1c4c3f57",
   "metadata": {},
   "outputs": [],
   "source": [
    "cluster.down()"
   ]
  },
  {
   "cell_type": "code",
   "execution_count": null,
   "id": "34f83ec2",
   "metadata": {},
   "outputs": [],
   "source": []
  }
 ],
 "metadata": {
  "kernelspec": {
   "display_name": "Python 3 (ipykernel)",
   "language": "python",
   "name": "python3"
  },
  "language_info": {
   "codemirror_mode": {
    "name": "ipython",
    "version": 3
   },
   "file_extension": ".py",
   "mimetype": "text/x-python",
   "name": "python",
   "nbconvert_exporter": "python",
   "pygments_lexer": "ipython3",
   "version": "3.8.16"
  },
  "vscode": {
   "interpreter": {
    "hash": "96e22af1ea11c5255349108fcb121f4f4096b7c4d0b90bfc9064be550878f2a3"
   }
  }
 },
 "nbformat": 4,
 "nbformat_minor": 5
}
